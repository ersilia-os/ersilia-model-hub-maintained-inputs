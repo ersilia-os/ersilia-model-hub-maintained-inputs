{
 "cells": [
  {
   "cell_type": "code",
   "execution_count": 4,
   "metadata": {},
   "outputs": [],
   "source": [
    "import pandas as pd\n",
    "import os\n",
    "import random\n",
    "DATAPATH = \"../compound\""
   ]
  },
  {
   "cell_type": "code",
   "execution_count": 13,
   "metadata": {},
   "outputs": [],
   "source": [
    "import hashlib\n",
    "def encode(text: str) -> str:\n",
    "    return hashlib.md5(text.encode(\"utf-8\")).hexdigest()"
   ]
  },
  {
   "cell_type": "code",
   "execution_count": 6,
   "metadata": {},
   "outputs": [],
   "source": [
    "df = pd.read_csv(os.path.join(DATAPATH, \"single\", \"inp-000.csv\"))\n",
    "single_smiles = df[\"input\"].tolist()"
   ]
  },
  {
   "cell_type": "code",
   "execution_count": 17,
   "metadata": {},
   "outputs": [],
   "source": [
    "# Pair\n",
    "N = 1000\n",
    "pairs = []\n",
    "keys = []\n",
    "for _ in range(N):\n",
    "    p = random.sample(single_smiles, k=2)\n",
    "    p = \".\".join(p)\n",
    "    key = encode(p)\n",
    "    pairs += [p]\n",
    "    keys += [key]\n",
    "\n",
    "pairs_df = pd.DataFrame({\"key\": keys, \"input\": pairs})\n",
    "pairs_df.to_csv(os.path.join(DATAPATH, \"pair\", \"inp-000.csv\"), index=False)"
   ]
  },
  {
   "cell_type": "code",
   "execution_count": 21,
   "metadata": {},
   "outputs": [],
   "source": [
    "# List\n",
    "N = 1000\n",
    "smis = []\n",
    "keys = []\n",
    "for _ in range(N):\n",
    "    p = random.sample(single_smiles, k=random.randint(2,10))\n",
    "    p = \".\".join(p)\n",
    "    key = encode(p)\n",
    "    smis += [p]\n",
    "    keys += [key]\n",
    "\n",
    "smis_df = pd.DataFrame({\"key\": keys, \"input\": smis})\n",
    "smis_df.to_csv(os.path.join(DATAPATH, \"list\", \"inp-000.csv\"), index=False)"
   ]
  },
  {
   "cell_type": "code",
   "execution_count": 23,
   "metadata": {},
   "outputs": [],
   "source": [
    "# Pair of Lists\n",
    "N = 1000\n",
    "smis_1 = []\n",
    "smis_2 = []\n",
    "keys = []\n",
    "for _ in range(N):\n",
    "    p1 = random.sample(single_smiles, k=random.randint(2,10))\n",
    "    p1 = \".\".join(p1)\n",
    "    p2 = random.sample(single_smiles, k=random.randint(2,10))\n",
    "    p2 = \".\".join(p2)\n",
    "    key = encode(\",\".join([p1, p2]))\n",
    "    smis_1 += [p1]\n",
    "    smis_2 += [p2]\n",
    "    keys += [key]\n",
    "\n",
    "smis_df = pd.DataFrame({\"key\": keys, \"input_1\": smis_1, \"input_2\":smis_2})\n",
    "smis_df.to_csv(os.path.join(DATAPATH, \"pair-of-lists\", \"inp-000.csv\"), index=False)"
   ]
  },
  {
   "cell_type": "code",
   "execution_count": null,
   "metadata": {},
   "outputs": [],
   "source": []
  }
 ],
 "metadata": {
  "kernelspec": {
   "display_name": "lazyqsar",
   "language": "python",
   "name": "python3"
  },
  "language_info": {
   "codemirror_mode": {
    "name": "ipython",
    "version": 3
   },
   "file_extension": ".py",
   "mimetype": "text/x-python",
   "name": "python",
   "nbconvert_exporter": "python",
   "pygments_lexer": "ipython3",
   "version": "3.10.11"
  },
  "orig_nbformat": 4
 },
 "nbformat": 4,
 "nbformat_minor": 2
}
