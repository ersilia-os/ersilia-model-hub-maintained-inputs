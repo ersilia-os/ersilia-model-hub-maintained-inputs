{
 "cells": [
  {
   "cell_type": "code",
   "execution_count": 3,
   "metadata": {},
   "outputs": [
    {
     "name": "stderr",
     "output_type": "stream",
     "text": [
      "  1%|          | 10004/1610596 [02:44<7:17:35, 60.96it/s]\n"
     ]
    }
   ],
   "source": [
    "from chembl_webresource_client.new_client import new_client\n",
    "from tqdm import tqdm\n",
    "\n",
    "# Create new assay client\n",
    "assay = new_client.assay\n",
    "\n",
    "# Fetch data by setting the desired parameters\n",
    "results = assay.only(['description']).all()\n",
    "\n",
    "# Print out the results\n",
    "texts = []\n",
    "for result in tqdm(results):\n",
    "    d = result[\"description\"]\n",
    "    if d is None:\n",
    "        continue\n",
    "    if len(texts) > 10000:\n",
    "        break\n",
    "    texts += [d]\n"
   ]
  },
  {
   "cell_type": "code",
   "execution_count": 5,
   "metadata": {},
   "outputs": [],
   "source": [
    "from ersilia.utils.identifiers.text import TextIdentifier\n",
    "\n",
    "ti = TextIdentifier()\n",
    "\n",
    "R = []\n",
    "for t in texts:\n",
    "    k = ti.encode(t)\n",
    "    R += [[k,t]]\n",
    "\n",
    "import pandas as pd\n",
    "\n",
    "df = pd.DataFrame(R, columns=[\"key\", \"input\"])\n",
    "df.to_csv(\"../text/single/inp-000.csv\", sep=\",\", index=False)"
   ]
  }
 ],
 "metadata": {
  "kernelspec": {
   "display_name": "ersilia",
   "language": "python",
   "name": "python3"
  },
  "language_info": {
   "codemirror_mode": {
    "name": "ipython",
    "version": 3
   },
   "file_extension": ".py",
   "mimetype": "text/x-python",
   "name": "python",
   "nbconvert_exporter": "python",
   "pygments_lexer": "ipython3",
   "version": "3.11.4"
  },
  "orig_nbformat": 4
 },
 "nbformat": 4,
 "nbformat_minor": 2
}
